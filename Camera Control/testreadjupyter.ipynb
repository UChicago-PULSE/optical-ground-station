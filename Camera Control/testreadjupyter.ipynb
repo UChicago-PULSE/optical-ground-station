{
 "cells": [
  {
   "cell_type": "code",
   "execution_count": 2,
   "id": "d1e67532",
   "metadata": {},
   "outputs": [
    {
     "name": "stdout",
     "output_type": "stream",
     "text": [
      "here is the image info\n",
      "Filename: /Users/ashleyashiku/Desktop/CubeSat/cameratest/test1.fits\n",
      "No.    Name      Ver    Type      Cards   Dimensions   Format\n",
      "  0  PRIMARY       1 PrimaryHDU       6   (4656, 3520)   uint8   \n",
      "\n",
      "here is the pixel dimensions\n",
      "(3520, 4656)\n",
      "255\n",
      "128\n"
     ]
    }
   ],
   "source": [
    "# imports \n",
    "\n",
    "### for array operations\n",
    "import numpy as np\n",
    "\n",
    "### for plotting\n",
    "import matplotlib\n",
    "matplotlib.use('TkAgg')\n",
    "import matplotlib.pyplot as plt\n",
    "\n",
    "\n",
    "### for operations on FITS images\n",
    "from astropy.io import fits\n",
    "\n",
    "### statistics functions needed in this tutorial\n",
    "from scipy import stats\n",
    "from scipy.stats import norm\n",
    "\n",
    "image = fits.open('/Users/ashleyashiku/Desktop/CubeSat/cameratest/test1.fits')\n",
    "\n",
    "print(\"here is the image info\")\n",
    "image.info()\n",
    "print(\"\")\n",
    "header = image[0].header\n",
    "imagedata = image[0].data\n",
    "print(\"here is the pixel dimensions\")\n",
    "print(imagedata.shape)\n",
    "\n",
    "countvalues = imagedata.flatten()\n",
    "\n",
    "print(np.max(countvalues))\n",
    "print(np.min(countvalues))\n",
    "\n",
    "\n",
    "from IPython.display import Image\n",
    "# Load image from local storage\n",
    "#Image(filename = '/Users/ashleyashiku/Desktop/CubeSat/cameratest/test1.fits', width = 400)"
   ]
  },
  {
   "cell_type": "code",
   "execution_count": null,
   "id": "e3c20a11",
   "metadata": {},
   "outputs": [],
   "source": [
    "plt.hist(countvalues,bins=100, color = \"hotpink\")\n",
    "plt.yscale('log')\n",
    "plt.xlabel(\"Count Values\")\n",
    "plt.title(\"Plotting Image Counts\")\n",
    "plt.show()"
   ]
  },
  {
   "cell_type": "code",
   "execution_count": null,
   "id": "771f40a3",
   "metadata": {},
   "outputs": [],
   "source": []
  }
 ],
 "metadata": {
  "kernelspec": {
   "display_name": "Python 3 (ipykernel)",
   "language": "python",
   "name": "python3"
  },
  "language_info": {
   "codemirror_mode": {
    "name": "ipython",
    "version": 3
   },
   "file_extension": ".py",
   "mimetype": "text/x-python",
   "name": "python",
   "nbconvert_exporter": "python",
   "pygments_lexer": "ipython3",
   "version": "3.11.5"
  }
 },
 "nbformat": 4,
 "nbformat_minor": 5
}
